{
  "nbformat": 4,
  "nbformat_minor": 0,
  "metadata": {
    "colab": {
      "name": "Tugas_DataFrame.ipynb",
      "provenance": [],
      "toc_visible": true,
      "include_colab_link": true
    },
    "kernelspec": {
      "name": "python3",
      "display_name": "Python 3"
    },
    "language_info": {
      "name": "python"
    }
  },
  "cells": [
    {
      "cell_type": "markdown",
      "metadata": {
        "id": "view-in-github",
        "colab_type": "text"
      },
      "source": [
        "<a href=\"https://colab.research.google.com/github/windaanggraeni/List-Dictionary-Pada-Phyton/blob/main/Winda%20Anggraeni_1800015108_Tugas_DataFrame.ipynb\" target=\"_parent\"><img src=\"https://colab.research.google.com/assets/colab-badge.svg\" alt=\"Open In Colab\"/></a>"
      ]
    },
    {
      "cell_type": "markdown",
      "metadata": {
        "id": "TQTRIrnnv1d1"
      },
      "source": [
        "## Dataset"
      ]
    },
    {
      "cell_type": "code",
      "metadata": {
        "colab": {
          "base_uri": "https://localhost:8080/",
          "height": 202
        },
        "id": "v1AmW3H0v4js",
        "outputId": "539787dd-076e-4621-9654-52a3c780efe5"
      },
      "source": [
        "df = pd.read_csv(\"https://raw.githubusercontent.com/jokoeliyanto/Kelas-Dasar-Pejuang-Data-2.0/main/Super-Store-Dataset.csv\")\n",
        "df.head() "
      ],
      "execution_count": null,
      "outputs": [
        {
          "output_type": "execute_result",
          "data": {
            "text/html": [
              "<div>\n",
              "<style scoped>\n",
              "    .dataframe tbody tr th:only-of-type {\n",
              "        vertical-align: middle;\n",
              "    }\n",
              "\n",
              "    .dataframe tbody tr th {\n",
              "        vertical-align: top;\n",
              "    }\n",
              "\n",
              "    .dataframe thead th {\n",
              "        text-align: right;\n",
              "    }\n",
              "</style>\n",
              "<table border=\"1\" class=\"dataframe\">\n",
              "  <thead>\n",
              "    <tr style=\"text-align: right;\">\n",
              "      <th></th>\n",
              "      <th>order_id</th>\n",
              "      <th>order_date</th>\n",
              "      <th>customer_id</th>\n",
              "      <th>segment</th>\n",
              "      <th>category</th>\n",
              "      <th>sub_category</th>\n",
              "      <th>sales</th>\n",
              "      <th>quantity</th>\n",
              "      <th>profit</th>\n",
              "    </tr>\n",
              "  </thead>\n",
              "  <tbody>\n",
              "    <tr>\n",
              "      <th>0</th>\n",
              "      <td>CA-2016-152156</td>\n",
              "      <td>11/8/2016</td>\n",
              "      <td>CG-12520</td>\n",
              "      <td>Consumer</td>\n",
              "      <td>Furniture</td>\n",
              "      <td>Bookcases</td>\n",
              "      <td>261.9600</td>\n",
              "      <td>2</td>\n",
              "      <td>41.9136</td>\n",
              "    </tr>\n",
              "    <tr>\n",
              "      <th>1</th>\n",
              "      <td>CA-2016-152156</td>\n",
              "      <td>11/8/2016</td>\n",
              "      <td>CG-12520</td>\n",
              "      <td>Consumer</td>\n",
              "      <td>Furniture</td>\n",
              "      <td>Chairs</td>\n",
              "      <td>731.9400</td>\n",
              "      <td>3</td>\n",
              "      <td>219.5820</td>\n",
              "    </tr>\n",
              "    <tr>\n",
              "      <th>2</th>\n",
              "      <td>CA-2016-138688</td>\n",
              "      <td>6/12/2016</td>\n",
              "      <td>DV-13045</td>\n",
              "      <td>Corporate</td>\n",
              "      <td>Office Supplies</td>\n",
              "      <td>Labels</td>\n",
              "      <td>14.6200</td>\n",
              "      <td>2</td>\n",
              "      <td>6.8714</td>\n",
              "    </tr>\n",
              "    <tr>\n",
              "      <th>3</th>\n",
              "      <td>US-2015-108966</td>\n",
              "      <td>10/11/2015</td>\n",
              "      <td>SO-20335</td>\n",
              "      <td>Consumer</td>\n",
              "      <td>Furniture</td>\n",
              "      <td>Tables</td>\n",
              "      <td>957.5775</td>\n",
              "      <td>5</td>\n",
              "      <td>-383.0310</td>\n",
              "    </tr>\n",
              "    <tr>\n",
              "      <th>4</th>\n",
              "      <td>US-2015-108966</td>\n",
              "      <td>10/11/2015</td>\n",
              "      <td>SO-20335</td>\n",
              "      <td>Consumer</td>\n",
              "      <td>Office Supplies</td>\n",
              "      <td>Storage</td>\n",
              "      <td>22.3680</td>\n",
              "      <td>2</td>\n",
              "      <td>2.5164</td>\n",
              "    </tr>\n",
              "  </tbody>\n",
              "</table>\n",
              "</div>"
            ],
            "text/plain": [
              "         order_id  order_date customer_id  ...     sales quantity    profit\n",
              "0  CA-2016-152156   11/8/2016    CG-12520  ...  261.9600        2   41.9136\n",
              "1  CA-2016-152156   11/8/2016    CG-12520  ...  731.9400        3  219.5820\n",
              "2  CA-2016-138688   6/12/2016    DV-13045  ...   14.6200        2    6.8714\n",
              "3  US-2015-108966  10/11/2015    SO-20335  ...  957.5775        5 -383.0310\n",
              "4  US-2015-108966  10/11/2015    SO-20335  ...   22.3680        2    2.5164\n",
              "\n",
              "[5 rows x 9 columns]"
            ]
          },
          "metadata": {
            "tags": []
          },
          "execution_count": 158
        }
      ]
    },
    {
      "cell_type": "markdown",
      "metadata": {
        "id": "fNJlxji43rIv"
      },
      "source": [
        "## Variabel dataset\n",
        "\n",
        "\n"
      ]
    },
    {
      "cell_type": "markdown",
      "metadata": {
        "id": "yELOC18jK11Q"
      },
      "source": [
        "Variabel-variabel yang terdapat pada dataset ini adalah sebagai berikut:\n",
        "1. **order_id** = Nomor ID pembelian(nota)\n",
        "2. **order_data** = Tanggal pembelian\n",
        "3. **customer_id** = Nomor ID pembeli\n",
        "4. **segment** = Segmen produk \n",
        "5. **category** = Kategori produk\n",
        "6. **sub_category** = Sub kategori produk\n",
        "7. **sales** = Total harga pembelian\n",
        "8. **quantity** = Jumlah produk dibeli\n",
        "9. **profit** = Keuntungan"
      ]
    },
    {
      "cell_type": "markdown",
      "metadata": {
        "id": "Aqo2bJTQK6oS"
      },
      "source": [
        ""
      ]
    },
    {
      "cell_type": "markdown",
      "metadata": {
        "id": "igjm48vdp5SF"
      },
      "source": [
        "#Tugas Individu"
      ]
    },
    {
      "cell_type": "markdown",
      "metadata": {
        "id": "FpTHwIfhS5mF"
      },
      "source": [
        "\n",
        "1. Tentukan Segment mana dengan profit tertinggi!  [30]\n",
        "2. Tentukan Category mana dengan sales terbanyak!  [30]\n",
        "3. Tentukan Sub-Category dengan quantity paling sedikit! [40]\n",
        "\n",
        "\n",
        "\n",
        "\n",
        "\n",
        "4. **Challange Question!!!  Tentukan Bulan dengan Profit Tertinggi!!!** \n",
        "\n",
        "Bonus Nilai 100 di Salah Satu Tugas Lainnya\n"
      ]
    },
    {
      "cell_type": "markdown",
      "metadata": {
        "id": "xUul2UbPX14Y"
      },
      "source": [
        "Mengimpor Library\n"
      ]
    },
    {
      "cell_type": "code",
      "metadata": {
        "id": "JG8rSf3bYTXv"
      },
      "source": [
        "import pandas as pd\n",
        "import numpy as np"
      ],
      "execution_count": 4,
      "outputs": []
    },
    {
      "cell_type": "markdown",
      "metadata": {
        "id": "rvGUyytEf_md"
      },
      "source": [
        "Dataset"
      ]
    },
    {
      "cell_type": "code",
      "metadata": {
        "colab": {
          "base_uri": "https://localhost:8080/",
          "height": 424
        },
        "id": "ipDmPC5rgBaL",
        "outputId": "2ff3d39e-d7a4-4b37-cbc1-4dc22175156f"
      },
      "source": [
        "df = pd.read_csv(\"https://raw.githubusercontent.com/jokoeliyanto/Kelas-Dasar-Pejuang-Data-2.0/main/Super-Store-Dataset.csv\")\n",
        "df.head()\n",
        "df"
      ],
      "execution_count": 6,
      "outputs": [
        {
          "output_type": "execute_result",
          "data": {
            "text/html": [
              "<div>\n",
              "<style scoped>\n",
              "    .dataframe tbody tr th:only-of-type {\n",
              "        vertical-align: middle;\n",
              "    }\n",
              "\n",
              "    .dataframe tbody tr th {\n",
              "        vertical-align: top;\n",
              "    }\n",
              "\n",
              "    .dataframe thead th {\n",
              "        text-align: right;\n",
              "    }\n",
              "</style>\n",
              "<table border=\"1\" class=\"dataframe\">\n",
              "  <thead>\n",
              "    <tr style=\"text-align: right;\">\n",
              "      <th></th>\n",
              "      <th>order_id</th>\n",
              "      <th>order_date</th>\n",
              "      <th>customer_id</th>\n",
              "      <th>segment</th>\n",
              "      <th>category</th>\n",
              "      <th>sub_category</th>\n",
              "      <th>sales</th>\n",
              "      <th>quantity</th>\n",
              "      <th>profit</th>\n",
              "    </tr>\n",
              "  </thead>\n",
              "  <tbody>\n",
              "    <tr>\n",
              "      <th>0</th>\n",
              "      <td>CA-2016-152156</td>\n",
              "      <td>11/8/2016</td>\n",
              "      <td>CG-12520</td>\n",
              "      <td>Consumer</td>\n",
              "      <td>Furniture</td>\n",
              "      <td>Bookcases</td>\n",
              "      <td>261.9600</td>\n",
              "      <td>2</td>\n",
              "      <td>41.9136</td>\n",
              "    </tr>\n",
              "    <tr>\n",
              "      <th>1</th>\n",
              "      <td>CA-2016-152156</td>\n",
              "      <td>11/8/2016</td>\n",
              "      <td>CG-12520</td>\n",
              "      <td>Consumer</td>\n",
              "      <td>Furniture</td>\n",
              "      <td>Chairs</td>\n",
              "      <td>731.9400</td>\n",
              "      <td>3</td>\n",
              "      <td>219.5820</td>\n",
              "    </tr>\n",
              "    <tr>\n",
              "      <th>2</th>\n",
              "      <td>CA-2016-138688</td>\n",
              "      <td>6/12/2016</td>\n",
              "      <td>DV-13045</td>\n",
              "      <td>Corporate</td>\n",
              "      <td>Office Supplies</td>\n",
              "      <td>Labels</td>\n",
              "      <td>14.6200</td>\n",
              "      <td>2</td>\n",
              "      <td>6.8714</td>\n",
              "    </tr>\n",
              "    <tr>\n",
              "      <th>3</th>\n",
              "      <td>US-2015-108966</td>\n",
              "      <td>10/11/2015</td>\n",
              "      <td>SO-20335</td>\n",
              "      <td>Consumer</td>\n",
              "      <td>Furniture</td>\n",
              "      <td>Tables</td>\n",
              "      <td>957.5775</td>\n",
              "      <td>5</td>\n",
              "      <td>-383.0310</td>\n",
              "    </tr>\n",
              "    <tr>\n",
              "      <th>4</th>\n",
              "      <td>US-2015-108966</td>\n",
              "      <td>10/11/2015</td>\n",
              "      <td>SO-20335</td>\n",
              "      <td>Consumer</td>\n",
              "      <td>Office Supplies</td>\n",
              "      <td>Storage</td>\n",
              "      <td>22.3680</td>\n",
              "      <td>2</td>\n",
              "      <td>2.5164</td>\n",
              "    </tr>\n",
              "    <tr>\n",
              "      <th>...</th>\n",
              "      <td>...</td>\n",
              "      <td>...</td>\n",
              "      <td>...</td>\n",
              "      <td>...</td>\n",
              "      <td>...</td>\n",
              "      <td>...</td>\n",
              "      <td>...</td>\n",
              "      <td>...</td>\n",
              "      <td>...</td>\n",
              "    </tr>\n",
              "    <tr>\n",
              "      <th>9983</th>\n",
              "      <td>CA-2014-110422</td>\n",
              "      <td>1/21/2014</td>\n",
              "      <td>TB-21400</td>\n",
              "      <td>Consumer</td>\n",
              "      <td>Furniture</td>\n",
              "      <td>Furnishings</td>\n",
              "      <td>25.2480</td>\n",
              "      <td>3</td>\n",
              "      <td>4.1028</td>\n",
              "    </tr>\n",
              "    <tr>\n",
              "      <th>9984</th>\n",
              "      <td>CA-2017-121258</td>\n",
              "      <td>2/26/2017</td>\n",
              "      <td>DB-13060</td>\n",
              "      <td>Consumer</td>\n",
              "      <td>Furniture</td>\n",
              "      <td>Furnishings</td>\n",
              "      <td>91.9600</td>\n",
              "      <td>2</td>\n",
              "      <td>15.6332</td>\n",
              "    </tr>\n",
              "    <tr>\n",
              "      <th>9985</th>\n",
              "      <td>CA-2017-121258</td>\n",
              "      <td>2/26/2017</td>\n",
              "      <td>DB-13060</td>\n",
              "      <td>Consumer</td>\n",
              "      <td>Technology</td>\n",
              "      <td>Phones</td>\n",
              "      <td>258.5760</td>\n",
              "      <td>2</td>\n",
              "      <td>19.3932</td>\n",
              "    </tr>\n",
              "    <tr>\n",
              "      <th>9986</th>\n",
              "      <td>CA-2017-121258</td>\n",
              "      <td>2/26/2017</td>\n",
              "      <td>DB-13060</td>\n",
              "      <td>Consumer</td>\n",
              "      <td>Office Supplies</td>\n",
              "      <td>Paper</td>\n",
              "      <td>29.6000</td>\n",
              "      <td>4</td>\n",
              "      <td>13.3200</td>\n",
              "    </tr>\n",
              "    <tr>\n",
              "      <th>9987</th>\n",
              "      <td>CA-2017-119914</td>\n",
              "      <td>5/4/2017</td>\n",
              "      <td>CC-12220</td>\n",
              "      <td>Consumer</td>\n",
              "      <td>Office Supplies</td>\n",
              "      <td>Appliances</td>\n",
              "      <td>243.1600</td>\n",
              "      <td>2</td>\n",
              "      <td>72.9480</td>\n",
              "    </tr>\n",
              "  </tbody>\n",
              "</table>\n",
              "<p>9988 rows × 9 columns</p>\n",
              "</div>"
            ],
            "text/plain": [
              "            order_id  order_date customer_id  ...     sales quantity    profit\n",
              "0     CA-2016-152156   11/8/2016    CG-12520  ...  261.9600        2   41.9136\n",
              "1     CA-2016-152156   11/8/2016    CG-12520  ...  731.9400        3  219.5820\n",
              "2     CA-2016-138688   6/12/2016    DV-13045  ...   14.6200        2    6.8714\n",
              "3     US-2015-108966  10/11/2015    SO-20335  ...  957.5775        5 -383.0310\n",
              "4     US-2015-108966  10/11/2015    SO-20335  ...   22.3680        2    2.5164\n",
              "...              ...         ...         ...  ...       ...      ...       ...\n",
              "9983  CA-2014-110422   1/21/2014    TB-21400  ...   25.2480        3    4.1028\n",
              "9984  CA-2017-121258   2/26/2017    DB-13060  ...   91.9600        2   15.6332\n",
              "9985  CA-2017-121258   2/26/2017    DB-13060  ...  258.5760        2   19.3932\n",
              "9986  CA-2017-121258   2/26/2017    DB-13060  ...   29.6000        4   13.3200\n",
              "9987  CA-2017-119914    5/4/2017    CC-12220  ...  243.1600        2   72.9480\n",
              "\n",
              "[9988 rows x 9 columns]"
            ]
          },
          "metadata": {
            "tags": []
          },
          "execution_count": 6
        }
      ]
    },
    {
      "cell_type": "markdown",
      "metadata": {
        "id": "CF3EiZtjglJe"
      },
      "source": [
        "1. Segment Produk Apakah Yang memiliki Profit Tertinggi?"
      ]
    },
    {
      "cell_type": "code",
      "metadata": {
        "colab": {
          "base_uri": "https://localhost:8080/"
        },
        "id": "AmkBfIrug546",
        "outputId": "a9c48fbf-1ba2-464e-88a2-d1ef14efcec4"
      },
      "source": [
        "#Melihat Segment Apa sajakah yang ada\n",
        "df.segment.value_counts()"
      ],
      "execution_count": 7,
      "outputs": [
        {
          "output_type": "execute_result",
          "data": {
            "text/plain": [
              "Consumer       5188\n",
              "Corporate      3019\n",
              "Home Office    1781\n",
              "Name: segment, dtype: int64"
            ]
          },
          "metadata": {
            "tags": []
          },
          "execution_count": 7
        }
      ]
    },
    {
      "cell_type": "code",
      "metadata": {
        "id": "PAeCjQrjiQL6"
      },
      "source": [
        "#Memilih masing-masing segmen\n",
        "df_Consumer=df[df['segment']=='Consumer']\n",
        "df_Corporate=df[df['segment']=='Corporate']\n",
        "df_Home_Office=df[df['segment']=='Home Office']\n"
      ],
      "execution_count": 12,
      "outputs": []
    },
    {
      "cell_type": "code",
      "metadata": {
        "colab": {
          "base_uri": "https://localhost:8080/"
        },
        "id": "ZENQwv_GiqCf",
        "outputId": "ff54c05c-a4d1-4ca0-dd10-838062e37ebd"
      },
      "source": [
        "df_Consumer.profit.sum()"
      ],
      "execution_count": 13,
      "outputs": [
        {
          "output_type": "execute_result",
          "data": {
            "text/plain": [
              "128959.22080000001"
            ]
          },
          "metadata": {
            "tags": []
          },
          "execution_count": 13
        }
      ]
    },
    {
      "cell_type": "code",
      "metadata": {
        "colab": {
          "base_uri": "https://localhost:8080/"
        },
        "id": "bd-3syw7i5oq",
        "outputId": "1975a3e4-c745-4dc0-caf6-fd87d73fbad8"
      },
      "source": [
        "df_Corporate.profit.sum()"
      ],
      "execution_count": 14,
      "outputs": [
        {
          "output_type": "execute_result",
          "data": {
            "text/plain": [
              "83579.158"
            ]
          },
          "metadata": {
            "tags": []
          },
          "execution_count": 14
        }
      ]
    },
    {
      "cell_type": "code",
      "metadata": {
        "colab": {
          "base_uri": "https://localhost:8080/"
        },
        "id": "FIf4S_o5jBkL",
        "outputId": "640dad47-f318-4374-cb77-8b1efe1e7d67"
      },
      "source": [
        "df_Home_Office.profit.sum()"
      ],
      "execution_count": 15,
      "outputs": [
        {
          "output_type": "execute_result",
          "data": {
            "text/plain": [
              "58189.7681"
            ]
          },
          "metadata": {
            "tags": []
          },
          "execution_count": 15
        }
      ]
    },
    {
      "cell_type": "markdown",
      "metadata": {
        "id": "w2XAWk-ujPGD"
      },
      "source": [
        "2. Tentukan Category mana dengan sales terbanyak ?"
      ]
    },
    {
      "cell_type": "code",
      "metadata": {
        "colab": {
          "base_uri": "https://localhost:8080/"
        },
        "id": "uDNWe5Qfjpu9",
        "outputId": "15e41449-aa90-4b19-a848-58647320e141"
      },
      "source": [
        "#Melihat Category apa saja yang ada\n",
        "df.category.value_counts()"
      ],
      "execution_count": 16,
      "outputs": [
        {
          "output_type": "execute_result",
          "data": {
            "text/plain": [
              "Office Supplies    6026\n",
              "Furniture          2121\n",
              "Technology         1841\n",
              "Name: category, dtype: int64"
            ]
          },
          "metadata": {
            "tags": []
          },
          "execution_count": 16
        }
      ]
    },
    {
      "cell_type": "code",
      "metadata": {
        "id": "Ll0ZpzVAjwYE"
      },
      "source": [
        "#Melihat masing-masing category\n",
        "df_Office_Supplies=df[df['category']=='Office Supplies']\n",
        "df_Furniture=df[df['category']=='Furniture']\n",
        "df_Technology=df[df['category']=='Technology']"
      ],
      "execution_count": 17,
      "outputs": []
    },
    {
      "cell_type": "code",
      "metadata": {
        "colab": {
          "base_uri": "https://localhost:8080/"
        },
        "id": "Hk373Eo8kUDG",
        "outputId": "860944ae-fb1d-434e-b0fc-c4dd99ad0cf3"
      },
      "source": [
        "df_Office_Supplies.sales.sum()"
      ],
      "execution_count": 18,
      "outputs": [
        {
          "output_type": "execute_result",
          "data": {
            "text/plain": [
              "719047.032"
            ]
          },
          "metadata": {
            "tags": []
          },
          "execution_count": 18
        }
      ]
    },
    {
      "cell_type": "code",
      "metadata": {
        "colab": {
          "base_uri": "https://localhost:8080/"
        },
        "id": "LjcLeS6zkdyx",
        "outputId": "45c9e1d6-fe3e-4008-c89e-9b906cd66044"
      },
      "source": [
        "df_Furniture.sales.sum()"
      ],
      "execution_count": 19,
      "outputs": [
        {
          "output_type": "execute_result",
          "data": {
            "text/plain": [
              "741999.7953"
            ]
          },
          "metadata": {
            "tags": []
          },
          "execution_count": 19
        }
      ]
    },
    {
      "cell_type": "code",
      "metadata": {
        "colab": {
          "base_uri": "https://localhost:8080/"
        },
        "id": "CMrm8Alqko48",
        "outputId": "70ca87a4-1bee-463a-e609-725d2e7e02a4"
      },
      "source": [
        "df_Technology.sales.sum()"
      ],
      "execution_count": 20,
      "outputs": [
        {
          "output_type": "execute_result",
          "data": {
            "text/plain": [
              "755815.72"
            ]
          },
          "metadata": {
            "tags": []
          },
          "execution_count": 20
        }
      ]
    },
    {
      "cell_type": "markdown",
      "metadata": {
        "id": "HqQ6M3xLkyQV"
      },
      "source": [
        "Jadi, Kategory produk dengan total harga pembelian terbanyak adalah Tchnology"
      ]
    },
    {
      "cell_type": "markdown",
      "metadata": {
        "id": "boQl8x3HlJKD"
      },
      "source": [
        "3. Tentukan Sub-Category mana dengan quantity paling sedikit?"
      ]
    },
    {
      "cell_type": "code",
      "metadata": {
        "colab": {
          "base_uri": "https://localhost:8080/"
        },
        "id": "p6z3BTWvlTVE",
        "outputId": "6112f018-bc71-471e-b69b-266d361bf8fa"
      },
      "source": [
        "#Melihat sub-category apa saja yang ada\n",
        "df.sub_category.value_counts()"
      ],
      "execution_count": 21,
      "outputs": [
        {
          "output_type": "execute_result",
          "data": {
            "text/plain": [
              "Binders        1523\n",
              "Paper          1370\n",
              "Furnishings     957\n",
              "Phones          889\n",
              "Storage         846\n",
              "Art             796\n",
              "Accessories     775\n",
              "Chairs          617\n",
              "Appliances      466\n",
              "Labels          364\n",
              "Tables          319\n",
              "Envelopes       254\n",
              "Bookcases       228\n",
              "Fasteners       217\n",
              "Supplies        190\n",
              "Machines        113\n",
              "Copiers          64\n",
              "Name: sub_category, dtype: int64"
            ]
          },
          "metadata": {
            "tags": []
          },
          "execution_count": 21
        }
      ]
    },
    {
      "cell_type": "code",
      "metadata": {
        "id": "pC_WXdPclgw7"
      },
      "source": [
        "#Memilih masing-masing sub-category\n",
        "df_Binders=df[df['sub_category']=='Binders']\n",
        "df_Paper=df[df['sub_category']=='Paper']\n",
        "df_Furnishings=df[df['sub_category']=='Furnishings']\n",
        "df_Phones=df[df['sub_category']=='Phones']\n",
        "df_Storage=df[df['sub_category']=='Storage']\n",
        "df_Art=df[df['sub_category']=='Art']\n",
        "df_Accessories=df[df['sub_category']=='Accessories']\n",
        "df_Chairs=df[df['sub_category']=='Chairs']\n",
        "df_Appliances=df[df['sub_category']=='Appliances']\n",
        "df_Labels=df[df['sub_category']=='Labels']\n",
        "df_Tables=df[df['sub_category']=='Tables']\n",
        "df_Envelopes=df[df['sub_category']=='Envelopes']\n",
        "df_Bookcases=df[df['sub_category']=='Bookcases']\n",
        "df_Fasteners=df[df['sub_category']=='Fasteners']\n",
        "df_Supplies=df[df['sub_category']=='Supplies']\n",
        "df_Machines=df[df['sub_category']=='Machines']\n",
        "df_Copiers=df[df['sub_category']=='Copiers']"
      ],
      "execution_count": 22,
      "outputs": []
    },
    {
      "cell_type": "code",
      "metadata": {
        "colab": {
          "base_uri": "https://localhost:8080/"
        },
        "id": "_BAA4crSl03b",
        "outputId": "7bc101f3-0f5a-4035-e8ab-e90b2c563d51"
      },
      "source": [
        "df_Binders.quantity.sum()"
      ],
      "execution_count": 24,
      "outputs": [
        {
          "output_type": "execute_result",
          "data": {
            "text/plain": [
              "5974"
            ]
          },
          "metadata": {
            "tags": []
          },
          "execution_count": 24
        }
      ]
    },
    {
      "cell_type": "code",
      "metadata": {
        "colab": {
          "base_uri": "https://localhost:8080/"
        },
        "id": "0FLQwPJqmZzb",
        "outputId": "69279421-759c-4511-9309-051152cfc9aa"
      },
      "source": [
        "df_Paper.quantity.sum()"
      ],
      "execution_count": 25,
      "outputs": [
        {
          "output_type": "execute_result",
          "data": {
            "text/plain": [
              "5178"
            ]
          },
          "metadata": {
            "tags": []
          },
          "execution_count": 25
        }
      ]
    },
    {
      "cell_type": "code",
      "metadata": {
        "colab": {
          "base_uri": "https://localhost:8080/"
        },
        "id": "-m0uB31zmhvY",
        "outputId": "d08db3d2-75a8-4e51-f882-0111d905a946"
      },
      "source": [
        "df_Furnishings.quantity.sum()"
      ],
      "execution_count": 27,
      "outputs": [
        {
          "output_type": "execute_result",
          "data": {
            "text/plain": [
              "3563"
            ]
          },
          "metadata": {
            "tags": []
          },
          "execution_count": 27
        }
      ]
    },
    {
      "cell_type": "code",
      "metadata": {
        "colab": {
          "base_uri": "https://localhost:8080/"
        },
        "id": "zv3o6WfUmqXZ",
        "outputId": "e263b8d5-b465-452e-f4bd-c91e737426ea"
      },
      "source": [
        "df_Phones.quantity.sum()"
      ],
      "execution_count": 28,
      "outputs": [
        {
          "output_type": "execute_result",
          "data": {
            "text/plain": [
              "3289"
            ]
          },
          "metadata": {
            "tags": []
          },
          "execution_count": 28
        }
      ]
    },
    {
      "cell_type": "code",
      "metadata": {
        "colab": {
          "base_uri": "https://localhost:8080/"
        },
        "id": "XSwh5PNJmxqV",
        "outputId": "ca972da0-40e4-48f7-930c-c4ae3884c9b9"
      },
      "source": [
        "df_Storage.quantity.sum()"
      ],
      "execution_count": 29,
      "outputs": [
        {
          "output_type": "execute_result",
          "data": {
            "text/plain": [
              "3158"
            ]
          },
          "metadata": {
            "tags": []
          },
          "execution_count": 29
        }
      ]
    },
    {
      "cell_type": "code",
      "metadata": {
        "colab": {
          "base_uri": "https://localhost:8080/"
        },
        "id": "CGLCQgOWm3qg",
        "outputId": "f739da77-c5e1-4623-c99e-8a1f8faf5fc8"
      },
      "source": [
        "df_Art.quantity.sum()"
      ],
      "execution_count": 30,
      "outputs": [
        {
          "output_type": "execute_result",
          "data": {
            "text/plain": [
              "3000"
            ]
          },
          "metadata": {
            "tags": []
          },
          "execution_count": 30
        }
      ]
    },
    {
      "cell_type": "code",
      "metadata": {
        "colab": {
          "base_uri": "https://localhost:8080/"
        },
        "id": "qbXFiITHm8QY",
        "outputId": "530ee76f-2966-4877-a717-8e27f6e75b9a"
      },
      "source": [
        "df_Accessories.quantity.sum()"
      ],
      "execution_count": 31,
      "outputs": [
        {
          "output_type": "execute_result",
          "data": {
            "text/plain": [
              "2976"
            ]
          },
          "metadata": {
            "tags": []
          },
          "execution_count": 31
        }
      ]
    },
    {
      "cell_type": "code",
      "metadata": {
        "colab": {
          "base_uri": "https://localhost:8080/"
        },
        "id": "OtodiDv1nH45",
        "outputId": "5dbbf43b-8abd-412f-adff-490d49980722"
      },
      "source": [
        "df_Chairs.quantity.sum()"
      ],
      "execution_count": 32,
      "outputs": [
        {
          "output_type": "execute_result",
          "data": {
            "text/plain": [
              "2356"
            ]
          },
          "metadata": {
            "tags": []
          },
          "execution_count": 32
        }
      ]
    },
    {
      "cell_type": "code",
      "metadata": {
        "colab": {
          "base_uri": "https://localhost:8080/"
        },
        "id": "bFnuYu96nP1T",
        "outputId": "f5ccee5a-211f-4fb9-9e0a-bdfcb58422d5"
      },
      "source": [
        "df_Appliances.quantity.sum()"
      ],
      "execution_count": 33,
      "outputs": [
        {
          "output_type": "execute_result",
          "data": {
            "text/plain": [
              "1729"
            ]
          },
          "metadata": {
            "tags": []
          },
          "execution_count": 33
        }
      ]
    },
    {
      "cell_type": "code",
      "metadata": {
        "colab": {
          "base_uri": "https://localhost:8080/"
        },
        "id": "L0hvhj6enWYq",
        "outputId": "179cb621-3d93-4adc-9cc0-dea33ad50da6"
      },
      "source": [
        "df_Labels.quantity.sum()"
      ],
      "execution_count": 34,
      "outputs": [
        {
          "output_type": "execute_result",
          "data": {
            "text/plain": [
              "1400"
            ]
          },
          "metadata": {
            "tags": []
          },
          "execution_count": 34
        }
      ]
    },
    {
      "cell_type": "code",
      "metadata": {
        "colab": {
          "base_uri": "https://localhost:8080/"
        },
        "id": "tyK1IKnCndy0",
        "outputId": "bc7cda12-d274-49af-8d52-755b648f981d"
      },
      "source": [
        "df_Tables.quantity.sum()"
      ],
      "execution_count": 36,
      "outputs": [
        {
          "output_type": "execute_result",
          "data": {
            "text/plain": [
              "1241"
            ]
          },
          "metadata": {
            "tags": []
          },
          "execution_count": 36
        }
      ]
    }
  ]
}